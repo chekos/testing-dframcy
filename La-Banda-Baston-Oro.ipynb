{
 "cells": [
  {
   "cell_type": "markdown",
   "metadata": {},
   "source": [
    "# Testing DframCy\n",
    "\n",
    "https://github.com/yash1994/dframcy\n",
    "\n",
    ">_DframCy is a light-weight utility module to integrate Pandas Dataframe to spaCy's linguistic annotation and training tasks. DframCy provides clean APIs to convert spaCy's linguistic annotations, Matcher and PhraseMatcher information to Pandas dataframe, also supports training and evaluation of NLP pipeline from CSV/XLXS/XLS without any changes to spaCy's underlying APIs._"
   ]
  },
  {
   "cell_type": "markdown",
   "metadata": {},
   "source": [
    "#### Importamos las bibliotecas necesarias"
   ]
  },
  {
   "cell_type": "code",
   "execution_count": 1,
   "metadata": {},
   "outputs": [],
   "source": [
    "import spacy\n",
    "from dframcy import DframCy"
   ]
  },
  {
   "cell_type": "markdown",
   "metadata": {},
   "source": [
    "#### Preparamos el `doc`umento. En este caso, el primer verso de *Oro* por La Banda Bastön de su albúm *Luces Fantasma* (2017)."
   ]
  },
  {
   "cell_type": "code",
   "execution_count": 2,
   "metadata": {},
   "outputs": [],
   "source": [
    "nlp = spacy.load(\"es_core_news_sm\")"
   ]
  },
  {
   "cell_type": "code",
   "execution_count": 3,
   "metadata": {},
   "outputs": [],
   "source": [
    "dframcy = DframCy(nlp)"
   ]
  },
  {
   "cell_type": "code",
   "execution_count": 4,
   "metadata": {},
   "outputs": [],
   "source": [
    "doc = dframcy.nlp(u\"\"\"Estoy fumando viendo cómo todo gira alrededor\n",
    "Subiendo de nivel voy en un elevador\n",
    "Matando por deporte, muriendo por amor\n",
    "Mi padre me educó para ser el mejor\n",
    "Pero en estos días oscuros no puedo pensar muy claro\n",
    "Cualquier camino que tomo parece el equivocado\n",
    "Estoy cansado de pelear con mis demonios\n",
    "Les voy a invitar un trago, pidan lo que sea yo pago\n",
    "Les dije que me siento como carne viva sobre un esqueleto\n",
    "Se que dios no tiene amigos que nos va a matar el tiempo\n",
    "A todos, cada momento es oro\n",
    "Quiere bien a los que tienes al final te mueres solo\n",
    "Llegas como te vas, mientras tanto nada mal\n",
    "Fiestas y sexo casual, despiertas y sueñas con mas\n",
    "Sientes cómo se enferma, el alma nunca está en paz\n",
    "Y el remedio que ocupas no lo venden en las tiendas\"\"\")"
   ]
  },
  {
   "cell_type": "markdown",
   "metadata": {},
   "source": [
    "#### Preparamos el `DataFrame`"
   ]
  },
  {
   "cell_type": "code",
   "execution_count": 5,
   "metadata": {},
   "outputs": [],
   "source": [
    "annotation_dataframe = dframcy.to_dataframe(doc)"
   ]
  },
  {
   "cell_type": "code",
   "execution_count": 6,
   "metadata": {},
   "outputs": [
    {
     "data": {
      "text/html": [
       "<div>\n",
       "<style scoped>\n",
       "    .dataframe tbody tr th:only-of-type {\n",
       "        vertical-align: middle;\n",
       "    }\n",
       "\n",
       "    .dataframe tbody tr th {\n",
       "        vertical-align: top;\n",
       "    }\n",
       "\n",
       "    .dataframe thead th {\n",
       "        text-align: right;\n",
       "    }\n",
       "</style>\n",
       "<table border=\"1\" class=\"dataframe\">\n",
       "  <thead>\n",
       "    <tr style=\"text-align: right;\">\n",
       "      <th></th>\n",
       "      <th>tokens_start</th>\n",
       "      <th>tokens_end</th>\n",
       "      <th>tokens_pos</th>\n",
       "      <th>tokens_tag</th>\n",
       "      <th>tokens_dep</th>\n",
       "      <th>tokens_head</th>\n",
       "      <th>tokens_label</th>\n",
       "      <th>tokens_text</th>\n",
       "    </tr>\n",
       "  </thead>\n",
       "  <tbody>\n",
       "    <tr>\n",
       "      <th>0</th>\n",
       "      <td>0</td>\n",
       "      <td>5</td>\n",
       "      <td>AUX</td>\n",
       "      <td>AUX__Mood=Ind|Number=Sing|Person=1|Tense=Pres|...</td>\n",
       "      <td>aux</td>\n",
       "      <td>2</td>\n",
       "      <td>None</td>\n",
       "      <td>Estoy</td>\n",
       "    </tr>\n",
       "    <tr>\n",
       "      <th>1</th>\n",
       "      <td>6</td>\n",
       "      <td>13</td>\n",
       "      <td>AUX</td>\n",
       "      <td>AUX__VerbForm=Ger</td>\n",
       "      <td>aux</td>\n",
       "      <td>2</td>\n",
       "      <td>None</td>\n",
       "      <td>fumando</td>\n",
       "    </tr>\n",
       "    <tr>\n",
       "      <th>2</th>\n",
       "      <td>14</td>\n",
       "      <td>20</td>\n",
       "      <td>VERB</td>\n",
       "      <td>VERB__VerbForm=Ger</td>\n",
       "      <td>advcl</td>\n",
       "      <td>27</td>\n",
       "      <td>None</td>\n",
       "      <td>viendo</td>\n",
       "    </tr>\n",
       "    <tr>\n",
       "      <th>3</th>\n",
       "      <td>21</td>\n",
       "      <td>25</td>\n",
       "      <td>PRON</td>\n",
       "      <td>PRON__PronType=Int</td>\n",
       "      <td>obl</td>\n",
       "      <td>5</td>\n",
       "      <td>None</td>\n",
       "      <td>cómo</td>\n",
       "    </tr>\n",
       "    <tr>\n",
       "      <th>4</th>\n",
       "      <td>26</td>\n",
       "      <td>30</td>\n",
       "      <td>PRON</td>\n",
       "      <td>PRON__Gender=Masc|Number=Sing|PronType=Ind</td>\n",
       "      <td>obj</td>\n",
       "      <td>5</td>\n",
       "      <td>None</td>\n",
       "      <td>todo</td>\n",
       "    </tr>\n",
       "    <tr>\n",
       "      <th>...</th>\n",
       "      <td>...</td>\n",
       "      <td>...</td>\n",
       "      <td>...</td>\n",
       "      <td>...</td>\n",
       "      <td>...</td>\n",
       "      <td>...</td>\n",
       "      <td>...</td>\n",
       "      <td>...</td>\n",
       "    </tr>\n",
       "    <tr>\n",
       "      <th>159</th>\n",
       "      <td>722</td>\n",
       "      <td>724</td>\n",
       "      <td>PRON</td>\n",
       "      <td>PRON__Case=Acc|Gender=Masc|Number=Sing|Person=...</td>\n",
       "      <td>obj</td>\n",
       "      <td>160</td>\n",
       "      <td>None</td>\n",
       "      <td>lo</td>\n",
       "    </tr>\n",
       "    <tr>\n",
       "      <th>160</th>\n",
       "      <td>725</td>\n",
       "      <td>731</td>\n",
       "      <td>VERB</td>\n",
       "      <td>VERB__Mood=Ind|Number=Plur|Person=3|Tense=Pres...</td>\n",
       "      <td>conj</td>\n",
       "      <td>151</td>\n",
       "      <td>None</td>\n",
       "      <td>venden</td>\n",
       "    </tr>\n",
       "    <tr>\n",
       "      <th>161</th>\n",
       "      <td>732</td>\n",
       "      <td>734</td>\n",
       "      <td>ADP</td>\n",
       "      <td>ADP__AdpType=Prep</td>\n",
       "      <td>case</td>\n",
       "      <td>163</td>\n",
       "      <td>None</td>\n",
       "      <td>en</td>\n",
       "    </tr>\n",
       "    <tr>\n",
       "      <th>162</th>\n",
       "      <td>735</td>\n",
       "      <td>738</td>\n",
       "      <td>DET</td>\n",
       "      <td>DET__Definite=Def|Gender=Fem|Number=Plur|PronT...</td>\n",
       "      <td>det</td>\n",
       "      <td>163</td>\n",
       "      <td>None</td>\n",
       "      <td>las</td>\n",
       "    </tr>\n",
       "    <tr>\n",
       "      <th>163</th>\n",
       "      <td>739</td>\n",
       "      <td>746</td>\n",
       "      <td>NOUN</td>\n",
       "      <td>NOUN__Gender=Fem|Number=Plur</td>\n",
       "      <td>obl</td>\n",
       "      <td>160</td>\n",
       "      <td>None</td>\n",
       "      <td>tiendas</td>\n",
       "    </tr>\n",
       "  </tbody>\n",
       "</table>\n",
       "<p>164 rows × 8 columns</p>\n",
       "</div>"
      ],
      "text/plain": [
       "     tokens_start  tokens_end tokens_pos  \\\n",
       "0               0           5        AUX   \n",
       "1               6          13        AUX   \n",
       "2              14          20       VERB   \n",
       "3              21          25       PRON   \n",
       "4              26          30       PRON   \n",
       "..            ...         ...        ...   \n",
       "159           722         724       PRON   \n",
       "160           725         731       VERB   \n",
       "161           732         734        ADP   \n",
       "162           735         738        DET   \n",
       "163           739         746       NOUN   \n",
       "\n",
       "                                            tokens_tag tokens_dep  \\\n",
       "0    AUX__Mood=Ind|Number=Sing|Person=1|Tense=Pres|...        aux   \n",
       "1                                    AUX__VerbForm=Ger        aux   \n",
       "2                                   VERB__VerbForm=Ger      advcl   \n",
       "3                                   PRON__PronType=Int        obl   \n",
       "4           PRON__Gender=Masc|Number=Sing|PronType=Ind        obj   \n",
       "..                                                 ...        ...   \n",
       "159  PRON__Case=Acc|Gender=Masc|Number=Sing|Person=...        obj   \n",
       "160  VERB__Mood=Ind|Number=Plur|Person=3|Tense=Pres...       conj   \n",
       "161                                  ADP__AdpType=Prep       case   \n",
       "162  DET__Definite=Def|Gender=Fem|Number=Plur|PronT...        det   \n",
       "163                       NOUN__Gender=Fem|Number=Plur        obl   \n",
       "\n",
       "     tokens_head tokens_label tokens_text  \n",
       "0              2         None       Estoy  \n",
       "1              2         None     fumando  \n",
       "2             27         None      viendo  \n",
       "3              5         None        cómo  \n",
       "4              5         None        todo  \n",
       "..           ...          ...         ...  \n",
       "159          160         None          lo  \n",
       "160          151         None      venden  \n",
       "161          163         None          en  \n",
       "162          163         None         las  \n",
       "163          160         None     tiendas  \n",
       "\n",
       "[164 rows x 8 columns]"
      ]
     },
     "execution_count": 6,
     "metadata": {},
     "output_type": "execute_result"
    }
   ],
   "source": [
    "annotation_dataframe"
   ]
  },
  {
   "cell_type": "code",
   "execution_count": 7,
   "metadata": {},
   "outputs": [
    {
     "data": {
      "text/plain": [
       "NOUN     0.146341\n",
       "VERB     0.128049\n",
       "PRON     0.128049\n",
       "ADP      0.103659\n",
       "DET      0.097561\n",
       "SPACE    0.091463\n",
       "AUX      0.060976\n",
       "ADV      0.054878\n",
       "PROPN    0.048780\n",
       "ADJ      0.048780\n",
       "PUNCT    0.036585\n",
       "CONJ     0.030488\n",
       "SCONJ    0.024390\n",
       "Name: tokens_pos, dtype: float64"
      ]
     },
     "execution_count": 7,
     "metadata": {},
     "output_type": "execute_result"
    }
   ],
   "source": [
    "annotation_dataframe['tokens_pos'].value_counts(normalize = True)"
   ]
  }
 ],
 "metadata": {
  "kernelspec": {
   "display_name": "Python 3",
   "language": "python",
   "name": "python3"
  },
  "language_info": {
   "codemirror_mode": {
    "name": "ipython",
    "version": 3
   },
   "file_extension": ".py",
   "mimetype": "text/x-python",
   "name": "python",
   "nbconvert_exporter": "python",
   "pygments_lexer": "ipython3",
   "version": "3.7.3"
  }
 },
 "nbformat": 4,
 "nbformat_minor": 2
}
